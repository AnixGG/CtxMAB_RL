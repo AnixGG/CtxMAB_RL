{
  "nbformat": 4,
  "nbformat_minor": 0,
  "metadata": {
    "colab": {
      "provenance": [],
      "toc_visible": true
    },
    "kernelspec": {
      "name": "python3",
      "display_name": "Python 3"
    },
    "language_info": {
      "name": "python"
    }
  },
  "cells": [
    {
      "cell_type": "markdown",
      "source": [
        "# INIT"
      ],
      "metadata": {
        "id": "37bglar3I1yW"
      }
    },
    {
      "cell_type": "code",
      "source": [
        "import numpy as np\n",
        "from abc import ABC, abstractmethod\n",
        "from sklearn.datasets import load_iris\n",
        "from tqdm import tqdm\n",
        "import matplotlib.pyplot as plt\n",
        "import pickle\n",
        "import os\n",
        "from dataclasses import dataclass, field"
      ],
      "metadata": {
        "id": "VJkPT0XmNn9J"
      },
      "execution_count": 17,
      "outputs": []
    },
    {
      "cell_type": "markdown",
      "source": [
        "# DATA"
      ],
      "metadata": {
        "id": "nQxLVSy6R0nW"
      }
    },
    {
      "cell_type": "markdown",
      "source": [
        "## BaseEnv"
      ],
      "metadata": {
        "id": "MfCVC7bchofh"
      }
    },
    {
      "cell_type": "code",
      "source": [
        "class BaseEnv(ABC):\n",
        "  @abstractmethod\n",
        "  def __init__(self, *args, **kwargs):\n",
        "    pass\n",
        "\n",
        "  @abstractmethod\n",
        "  def get_sample(self, *args, **kwargs) -> np.ndarray:\n",
        "    pass\n",
        "\n",
        "  @abstractmethod\n",
        "  def check(self, *args, **kwargs) -> int:\n",
        "    pass\n",
        "\n",
        "  @abstractmethod\n",
        "  def get_params(self, *args, **kwargs) -> dict:\n",
        "    pass"
      ],
      "metadata": {
        "id": "mP9Ojpn8R4Be"
      },
      "execution_count": 18,
      "outputs": []
    },
    {
      "cell_type": "markdown",
      "source": [
        "## IrisEnv"
      ],
      "metadata": {
        "id": "TKzPkAF1hwAA"
      }
    },
    {
      "cell_type": "code",
      "source": [
        "class IrisEnv(BaseEnv):\n",
        "  def __init__(self):\n",
        "    self.data = load_iris()\n",
        "    self.indexes = np.arange(self.data.data.shape[0])\n",
        "    self.n_arms = len(np.unique(self.data.target))\n",
        "\n",
        "  def get_sample(self):\n",
        "    random_idx = int(np.random.choice(self.indexes))\n",
        "    current_context = self.data.data[random_idx]\n",
        "    self.current_target = self.data.target[random_idx]\n",
        "    return current_context.squeeze()\n",
        "\n",
        "  def check(self, arm):\n",
        "    reward = 1 if (arm == self.current_target) else 0\n",
        "    return reward\n",
        "\n",
        "  def get_params(self):\n",
        "    params = {\n",
        "        \"dim\": len(self.data.data[0]),\n",
        "        \"n_arms\": self.n_arms,\n",
        "    }\n",
        "    return params"
      ],
      "metadata": {
        "id": "xA723yC2TmTS"
      },
      "execution_count": 19,
      "outputs": []
    },
    {
      "cell_type": "markdown",
      "source": [
        "# BANDITS"
      ],
      "metadata": {
        "id": "5_N1c9eYI6Bd"
      }
    },
    {
      "cell_type": "markdown",
      "source": [
        "## BaseBandit"
      ],
      "metadata": {
        "id": "VNjbTTeQh210"
      }
    },
    {
      "cell_type": "code",
      "source": [
        "class BaseBandit(ABC):\n",
        "  @abstractmethod\n",
        "  def __init__(self, n_arms: int, *args, **kwargs):\n",
        "    self.n_arms = n_arms\n",
        "\n",
        "  @abstractmethod\n",
        "  def select_arm(self, *args, **kwargs) -> int:\n",
        "    pass\n",
        "\n",
        "  @abstractmethod\n",
        "  def update(self, context: np.ndarray, arm: int, reward: float, *args, **kwargs):\n",
        "    pass\n",
        "\n",
        "  @abstractmethod\n",
        "  def get_name(self):\n",
        "    pass"
      ],
      "metadata": {
        "id": "qRMoWtsIJATC"
      },
      "execution_count": 21,
      "outputs": []
    },
    {
      "cell_type": "markdown",
      "source": [
        "## EpsilonGreedy"
      ],
      "metadata": {
        "id": "x-Rhfac8h4V1"
      }
    },
    {
      "cell_type": "code",
      "source": [
        "class EpsilonGreedy(BaseBandit):\n",
        "  def __init__(self, n_arms:int, epsilon: float = 0.1, *args, **kwargs):\n",
        "    super().__init__(n_arms)\n",
        "    self.epsilon = epsilon\n",
        "\n",
        "    self.q_values = np.zeros(self.n_arms)\n",
        "    self.count_q_arms = np.zeros(self.n_arms)\n",
        "\n",
        "  def select_arm(self, *args, **kwargs) -> int:\n",
        "    if np.random.random() < self.epsilon:\n",
        "      return np.random.randint(self.n_arms)\n",
        "    return np.argmax(self.q_values)\n",
        "\n",
        "  def update(self, arm, reward, *args, **kwargs):\n",
        "    self.count_q_arms[arm] += 1\n",
        "    self.q_values[arm] += (reward - self.q_values[arm]) / self.count_q_arms[arm]\n",
        "\n",
        "  def get_name(self):\n",
        "    return f\"EpsilonGreedy(epsilon={self.epsilon})\""
      ],
      "metadata": {
        "id": "lHmn0do9KAVp"
      },
      "execution_count": 22,
      "outputs": []
    },
    {
      "cell_type": "markdown",
      "source": [
        "## UCB2"
      ],
      "metadata": {
        "id": "-wnZrWp-h6bL"
      }
    },
    {
      "cell_type": "code",
      "source": [
        "class UCB2(BaseBandit):\n",
        "  def __init__(self, n_arms:int, alpha: float=0.1, *args, **kwargs):\n",
        "    super().__init__(n_arms)\n",
        "    self.alpha = alpha\n",
        "\n",
        "    self.q_values = np.zeros(self.n_arms)\n",
        "    self.count_q_arms = np.zeros(self.n_arms)\n",
        "    self.total_steps = 0\n",
        "\n",
        "  def select_arm(self, *args, **kwargs) -> int:\n",
        "    best_ucb = -float(\"inf\")\n",
        "    for arm in range(self.n_arms):\n",
        "      if self.count_q_arms[arm] == 0:\n",
        "        return arm\n",
        "      ucb_arm = self.q_values[arm] + np.sqrt(2 * (1+ self.alpha) * np.log(self.total_steps+1) / self.count_q_arms[arm])\n",
        "      if ucb_arm > best_ucb:\n",
        "        best_ucb = ucb_arm\n",
        "        best_arm = arm\n",
        "    return best_arm\n",
        "\n",
        "  def update(self, arm, reward, *args, **kwargs):\n",
        "    self.count_q_arms[arm] += 1\n",
        "    self.q_values[arm] += (reward - self.q_values[arm]) / self.count_q_arms[arm]\n",
        "\n",
        "  def get_name(self):\n",
        "    return f\"UCB2(alpha={self.alpha})\""
      ],
      "metadata": {
        "id": "cyDrEICfLvfa"
      },
      "execution_count": 23,
      "outputs": []
    },
    {
      "cell_type": "markdown",
      "source": [
        "## UCB"
      ],
      "metadata": {
        "id": "ISGIgIT4h7x4"
      }
    },
    {
      "cell_type": "code",
      "source": [
        "class UCB(UCB2):\n",
        "  def __init__(self, n_arms:int, *args, **kwargs):\n",
        "    super().__init__(n_arms, alpha=0)\n",
        "\n",
        "  def get_name(self):\n",
        "    return f\"UCB\""
      ],
      "metadata": {
        "id": "0eVNPSPPL1Bl"
      },
      "execution_count": 24,
      "outputs": []
    },
    {
      "cell_type": "markdown",
      "source": [
        "## LinUCB"
      ],
      "metadata": {
        "id": "2pIQXElDh-WO"
      }
    },
    {
      "cell_type": "code",
      "source": [
        "class ClassicLinUCB(BaseBandit):\n",
        "  def __init__(self, n_arms: int, dim: int, alpha: int = 1, *args, **kwargs):\n",
        "    super().__init__(n_arms)\n",
        "    self.dim = dim\n",
        "    self.alpha = alpha\n",
        "\n",
        "    self.A = [np.eye(self.dim) for _ in range(self.n_arms)]\n",
        "    self.b = [np.zeros(self.dim) for _ in range(self.n_arms)]\n",
        "\n",
        "  def select_arm(self, context) -> int:\n",
        "    best_ucb = -float(\"inf\")\n",
        "    for arm in range(self.n_arms):\n",
        "      inverse_A = np.linalg.inv(self.A[arm])\n",
        "      theta_a = inverse_A @ self.b[arm]\n",
        "\n",
        "      ucb_arm = theta_a @ context + self.alpha * np.sqrt(context @ inverse_A @ context)\n",
        "      if ucb_arm > best_ucb:\n",
        "        best_ucb = ucb_arm\n",
        "        best_arm = arm\n",
        "    return best_arm\n",
        "\n",
        "  def update(self, context, arm, reward):\n",
        "    context = np.expand_dims(context, axis=1)\n",
        "    self.A[arm] += context @ context.T\n",
        "    self.b[arm] += reward * context.squeeze()\n",
        "\n",
        "  def get_name(self):\n",
        "    return f\"LinUCB(alpha={self.alpha})\"\n"
      ],
      "metadata": {
        "id": "9R7nNMy5Mkvb"
      },
      "execution_count": 26,
      "outputs": []
    },
    {
      "cell_type": "markdown",
      "source": [
        "## LinUCB (Sherman-Morrison Optimized)"
      ],
      "metadata": {
        "id": "2mtwB4a3QAjd"
      }
    },
    {
      "cell_type": "code",
      "source": [
        "class LinUCB(BaseBandit):\n",
        "  def __init__(self, n_arms: int, dim: int, alpha: int = 1, *args, **kwargs):\n",
        "    super().__init__(n_arms)\n",
        "    self.dim = dim\n",
        "    self.alpha = alpha\n",
        "\n",
        "    self.A = [np.eye(self.dim) for _ in range(self.n_arms)]\n",
        "    self.b = [np.zeros(self.dim) for _ in range(self.n_arms)]\n",
        "    self.A_inv = [np.eye(self.dim) for _ in range(self.n_arms)]\n",
        "\n",
        "  def select_arm(self, context: np.ndarray) -> int:\n",
        "    best_ucb = -float(\"inf\")\n",
        "    for arm in range(self.n_arms):\n",
        "      theta_a = self.A_inv[arm] @ self.b[arm]\n",
        "\n",
        "      ucb_arm = theta_a @ context + self.alpha * np.sqrt(context @ self.A_inv[arm] @ context)\n",
        "      if ucb_arm > best_ucb:\n",
        "        best_ucb = ucb_arm\n",
        "        best_arm = arm\n",
        "    return best_arm\n",
        "\n",
        "  def update(self, context, arm, reward):\n",
        "    context = np.expand_dims(context, axis=1)\n",
        "    self.A[arm] += context @ context.T\n",
        "    self.b[arm] += reward * context.squeeze()\n",
        "    self.A_inv[arm] -= (self.A_inv[arm] @ (context @ context.T) @ self.A_inv[arm]) / (1 + context.T @ self.A_inv[arm] @ context)\n",
        "\n",
        "  def get_name(self):\n",
        "    return f\"LinUCB(alpha={self.alpha})\"\n"
      ],
      "metadata": {
        "id": "ANg5aHleP_Wd"
      },
      "execution_count": 28,
      "outputs": []
    },
    {
      "cell_type": "markdown",
      "source": [
        "## LinUCB OHE arms"
      ],
      "metadata": {
        "id": "yNjY7GwkUBSh"
      }
    },
    {
      "cell_type": "code",
      "source": [
        "class LinUCBoheARMS(BaseBandit):\n",
        "  def __init__(self, n_arms: int, dim: int, alpha: int = 1, *args, **kwargs):\n",
        "    super().__init__(n_arms)\n",
        "    self.dim = dim + self.n_arms\n",
        "    self.alpha = alpha\n",
        "\n",
        "    self.A = [np.eye(self.dim) for _ in range(self.n_arms)]\n",
        "    self.b = [np.zeros(self.dim) for _ in range(self.n_arms)]\n",
        "    self.A_inv = [np.eye(self.dim) for _ in range(self.n_arms)]\n",
        "\n",
        "  def select_arm(self, context: np.ndarray) -> int:\n",
        "    best_ucb = -float(\"inf\")\n",
        "    for arm in range(self.n_arms):\n",
        "      theta_a = self.A_inv[arm] @ self.b[arm]\n",
        "\n",
        "      ohe_arm = np.zeros(self.n_arms)\n",
        "      ohe_arm[arm] = 1\n",
        "      expanded_context = np.concatenate([context, ohe_arm])\n",
        "\n",
        "      ucb_arm = theta_a @ expanded_context + self.alpha * np.sqrt(expanded_context @ self.A_inv[arm] @ expanded_context)\n",
        "      if ucb_arm > best_ucb:\n",
        "        best_ucb = ucb_arm\n",
        "        best_arm = arm\n",
        "    return best_arm\n",
        "\n",
        "  def update(self, context, arm, reward):\n",
        "    ohe_arm = np.zeros(self.n_arms)\n",
        "    ohe_arm[arm] = 1\n",
        "    expanded_context = np.concatenate([context, ohe_arm])\n",
        "\n",
        "    context = np.expand_dims(expanded_context, axis=1)\n",
        "    self.A[arm] += context @ context.T\n",
        "    self.A_inv[arm] -= (self.A_inv[arm] @ (context @ context.T) @ self.A_inv[arm]) / (1 + context.T @ self.A_inv[arm] @ context)\n",
        "    self.b[arm] += reward * context.squeeze()\n",
        "\n",
        "  def get_name(self):\n",
        "    return f\"LinUCBoheARMS(alpha={self.alpha})\""
      ],
      "metadata": {
        "id": "pxM5q6krUDYB"
      },
      "execution_count": 29,
      "outputs": []
    },
    {
      "cell_type": "markdown",
      "source": [
        "## Adaptive LinUCB"
      ],
      "metadata": {
        "id": "ieFOUUR_WvwX"
      }
    },
    {
      "cell_type": "code",
      "source": [
        "class AdaptiveLinUCB(LinUCB):\n",
        "  def __init__(self, n_arms: int, dim: int, alpha: float = 1, *args, **kwargs):\n",
        "    super().__init__(n_arms, dim, alpha)\n",
        "    self.first_alpha = self.alpha\n",
        "    self.total_steps = 0\n",
        "\n",
        "  def update(self, context, arm, reward):\n",
        "    super().update(context, arm, reward)\n",
        "    self.total_steps += 1\n",
        "    self.alpha = self.first_alpha / np.log(self.total_steps + 2)\n",
        "\n",
        "  def get_name(self):\n",
        "    return f\"AdaptiveLinUCB(alpha={self.first_alpha})\""
      ],
      "metadata": {
        "id": "vsNBiUBqWyds"
      },
      "execution_count": 30,
      "outputs": []
    },
    {
      "cell_type": "markdown",
      "source": [
        "## DecayingAlpha LinUCB"
      ],
      "metadata": {
        "id": "okRpNYhfgHdL"
      }
    },
    {
      "cell_type": "code",
      "source": [
        "class DecayingAlphaLinUCB(LinUCB):\n",
        "  def __init__(self, n_arms: int, dim: int, alpha: float = 1, beta=0.99, *args, **kwargs):\n",
        "    super().__init__(n_arms, dim, alpha)\n",
        "    self.first_alpha = self.alpha\n",
        "    self.beta = beta\n",
        "    self.total_steps = 0\n",
        "\n",
        "  def update(self, context, arm, reward):\n",
        "    super().update(context, arm, reward)\n",
        "    self.alpha *= self.beta\n",
        "\n",
        "  def get_name(self):\n",
        "    return f\"DecayingAlphaLinUCB(alpha={self.first_alpha}, beta={self.beta})\""
      ],
      "metadata": {
        "id": "xnpWsppDgYYM"
      },
      "execution_count": 31,
      "outputs": []
    },
    {
      "cell_type": "markdown",
      "source": [
        "# UTILS"
      ],
      "metadata": {
        "id": "T9G35JDqjr5P"
      }
    },
    {
      "cell_type": "code",
      "source": [
        "def check_path(path, make=False):\n",
        "  if not make:\n",
        "    return os.path.isfile(path)\n",
        "  if not os.path.exists(path):\n",
        "    try:\n",
        "      os.makedirs(path)\n",
        "    except OSError as e:\n",
        "      print(f\"Ошибка при создании директории {path}: {e}\")"
      ],
      "metadata": {
        "id": "M-FIw2xnkCEi"
      },
      "execution_count": 34,
      "outputs": []
    },
    {
      "cell_type": "code",
      "source": [
        "def save_pickle(data, path, filename):\n",
        "  check_path(path, make=True)\n",
        "  with open(os.path.join(path, filename), 'wb') as f:\n",
        "    pickle.dump(data, f)"
      ],
      "metadata": {
        "id": "vI463KnBjwAf"
      },
      "execution_count": 35,
      "outputs": []
    },
    {
      "cell_type": "code",
      "source": [
        "def open_pickle(path):\n",
        "  file_exist = check_path(path)\n",
        "  if not file_exist:\n",
        "    print(f\"Файл {path} не существует\")\n",
        "  with open(path, 'rb') as f:\n",
        "    loaded_data = pickle.load(f)\n",
        "  return loaded_data"
      ],
      "metadata": {
        "id": "foD9M5NBkFe-"
      },
      "execution_count": 36,
      "outputs": []
    },
    {
      "cell_type": "code",
      "source": [
        "class MwP: # ModelWithParams\n",
        "  def __init__(self, model: BaseBandit, **kwargs):\n",
        "    self.model = model\n",
        "    self.params = kwargs"
      ],
      "metadata": {
        "id": "9R-D4z1ImjPg"
      },
      "execution_count": 37,
      "outputs": []
    },
    {
      "cell_type": "markdown",
      "source": [
        "# LAUNCH"
      ],
      "metadata": {
        "id": "K1rIRU7Qe4iK"
      }
    },
    {
      "cell_type": "code",
      "source": [
        "class Launching:\n",
        "  def __init__(self,\n",
        "               n_episodes: int,\n",
        "               models: list,\n",
        "               env: BaseEnv,\n",
        "               random_seed: int = 19,\n",
        "               save_results: bool = False,\n",
        "               plotting: bool = False,\n",
        "               path_to_save: str = \"/expirements/\",\n",
        "               ):\n",
        "    self.models = models\n",
        "    self.env = env\n",
        "\n",
        "    self.seed = random_seed\n",
        "    self.n_episodes = n_episodes\n",
        "\n",
        "    self.save_results = save_results\n",
        "    self.plotting = plotting\n",
        "    self.path_to_save = path_to_save\n",
        "\n",
        "  def run(self, model):\n",
        "    reward_history = []\n",
        "    regret_history = []\n",
        "    regret = 0\n",
        "\n",
        "    for episode in tqdm(range(self.n_episodes)):\n",
        "      sample = self.env.get_sample()\n",
        "      arm = model.select_arm(sample)\n",
        "      reward = self.env.check(arm)\n",
        "      model.update(context=sample, arm=arm, reward=reward)\n",
        "\n",
        "      regret += 1 - reward\n",
        "      regret_history.append(regret)\n",
        "\n",
        "      reward_history.append(reward)\n",
        "\n",
        "    if self.plotting:\n",
        "      plt.plot(regret_history, label=model.get_name())\n",
        "      plt.title(\"Regret; \" + self.env.__class__.__name__)\n",
        "\n",
        "    if self.save_results:\n",
        "      save_data = {\n",
        "          \"regret_history\": regret_history,\n",
        "          \"reward_history\": reward_history,\n",
        "      }\n",
        "      save_pickle(save_data, self.path_to_save, model.get_name())\n",
        "\n",
        "\n",
        "  def launch(self):\n",
        "    if self.plotting:\n",
        "      plt.figure(figsize=(12, 6))\n",
        "\n",
        "    for model in self.models:\n",
        "      np.random.seed(self.seed)\n",
        "      current_params = model.params\n",
        "      current_params.update(self.env.get_params())\n",
        "      current_model = model.model(**current_params)\n",
        "\n",
        "      print(current_model.get_name())\n",
        "\n",
        "      self.run(current_model)\n",
        "\n",
        "    if self.plotting:\n",
        "      plt.legend()\n"
      ],
      "metadata": {
        "id": "b9AO6huGe4P8"
      },
      "execution_count": 38,
      "outputs": []
    },
    {
      "cell_type": "code",
      "source": [
        "algs = [\n",
        "      MwP(EpsilonGreedy, epsilon=0.41),\n",
        "      MwP(UCB),\n",
        "      MwP(UCB2, alpha=0.5),\n",
        "      MwP(DecayingAlphaLinUCB, alpha=0.41, beta=0.99),\n",
        "      MwP(LinUCBoheARMS, alpha=0.41),\n",
        "      MwP(LinUCB, alpha=0.41),\n",
        "      MwP(AdaptiveLinUCB, alpha=0.41),\n",
        "]\n",
        "process = Launching(\n",
        "    n_episodes=1000,\n",
        "    models = algs,\n",
        "    env = IrisEnv(),\n",
        "    plotting = True,\n",
        ")"
      ],
      "metadata": {
        "id": "Uh1R-BB9hTHD"
      },
      "execution_count": 53,
      "outputs": []
    },
    {
      "cell_type": "code",
      "source": [
        "process.launch()"
      ],
      "metadata": {
        "colab": {
          "base_uri": "https://localhost:8080/",
          "height": 783
        },
        "collapsed": true,
        "id": "Nw39GvAZmKjb",
        "outputId": "0bfda53a-de84-48ae-f3d5-7c662e05c016"
      },
      "execution_count": 54,
      "outputs": [
        {
          "output_type": "stream",
          "name": "stdout",
          "text": [
            "EpsilonGreedy(epsilon=0.41)\n"
          ]
        },
        {
          "output_type": "stream",
          "name": "stderr",
          "text": [
            "100%|██████████| 1000/1000 [00:00<00:00, 35790.02it/s]\n"
          ]
        },
        {
          "output_type": "stream",
          "name": "stdout",
          "text": [
            "UCB\n"
          ]
        },
        {
          "output_type": "stream",
          "name": "stderr",
          "text": [
            "100%|██████████| 1000/1000 [00:00<00:00, 24682.69it/s]\n"
          ]
        },
        {
          "output_type": "stream",
          "name": "stdout",
          "text": [
            "UCB2(alpha=0.5)\n"
          ]
        },
        {
          "output_type": "stream",
          "name": "stderr",
          "text": [
            "100%|██████████| 1000/1000 [00:00<00:00, 32025.90it/s]\n"
          ]
        },
        {
          "output_type": "stream",
          "name": "stdout",
          "text": [
            "DecayingAlphaLinUCB(alpha=0.41, beta=0.99)\n"
          ]
        },
        {
          "output_type": "stream",
          "name": "stderr",
          "text": [
            "100%|██████████| 1000/1000 [00:00<00:00, 8339.90it/s]\n"
          ]
        },
        {
          "output_type": "stream",
          "name": "stdout",
          "text": [
            "LinUCBoheARMS(alpha=0.41)\n"
          ]
        },
        {
          "output_type": "stream",
          "name": "stderr",
          "text": [
            "100%|██████████| 1000/1000 [00:00<00:00, 6788.77it/s]\n"
          ]
        },
        {
          "output_type": "stream",
          "name": "stdout",
          "text": [
            "LinUCB(alpha=0.41)\n"
          ]
        },
        {
          "output_type": "stream",
          "name": "stderr",
          "text": [
            "100%|██████████| 1000/1000 [00:00<00:00, 8290.09it/s]\n"
          ]
        },
        {
          "output_type": "stream",
          "name": "stdout",
          "text": [
            "AdaptiveLinUCB(alpha=0.41)\n"
          ]
        },
        {
          "output_type": "stream",
          "name": "stderr",
          "text": [
            "100%|██████████| 1000/1000 [00:00<00:00, 8947.92it/s]\n"
          ]
        },
        {
          "output_type": "display_data",
          "data": {
            "text/plain": [
              "<Figure size 1200x600 with 1 Axes>"
            ],
            "image/png": "[encoded data removed]"
          },
          "metadata": {}
        }
      ]
    }
  ]
}